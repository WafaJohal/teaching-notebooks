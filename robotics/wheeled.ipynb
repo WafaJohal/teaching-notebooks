{
 "cells": [
  {
   "cell_type": "code",
   "execution_count": 1,
   "metadata": {},
   "outputs": [],
   "source": [
    "# Preparation\n",
    "import numpy as np\n",
    "np.set_printoptions(precision = 4, suppress = True)\n",
    "import matplotlib.pyplot as plt\n",
    "import ipywidgets"
   ]
  },
  {
   "cell_type": "code",
   "execution_count": 55,
   "metadata": {},
   "outputs": [],
   "source": [
    "def mktr(x, y):\n",
    "    return np.array([[1,0,x],\n",
    "                     [0,1,y],\n",
    "                     [0,0,1]])\n",
    "\n",
    "def mkrot(theta):\n",
    "    return np.array([[np.cos(theta),-np.sin(theta),0],\n",
    "                     [np.sin(theta),np.cos(theta),0],\n",
    "                     [0,0,1]])\n",
    "\n",
    "def drawf(f, ax = None, name = None):\n",
    "    \"\"\" Draw frame defined by f on axis ax (if provided) or on plt.gca() otherwise \"\"\"\n",
    "    xhat = f @ np.array([[0,0,1],[1,0,1]]).T\n",
    "    yhat = f @ np.array([[0,0,1],[0,1,1]]).T\n",
    "    if(not ax):\n",
    "        ax = plt.gca()\n",
    "    ax.plot(xhat[0,:],xhat[1,:],'r-') # transformed x unit vector\n",
    "    ax.plot(yhat[0,:],yhat[1,:],'g-') # transformed y unit vector\n",
    "    if(name):\n",
    "        ax.text(xhat[0,0],xhat[1,0],name,va=\"top\",ha=\"center\")\n",
    "        \n",
    "def drawrobot(f, l, ax = None, alpha = 0.5):\n",
    "    \"\"\" Draw robot at f, with wheel distance l,\n",
    "    on axis ax (if provided) or on plt.gca() otherwise \"\"\"\n",
    "\n",
    "    if(not ax):\n",
    "        ax = plt.gca()\n",
    "    \n",
    "    robot = ([[-1, 2,-1,-1],  # x\n",
    "              [-1, 0, 1,-1]]) # y \n",
    "    robot = np.array(robot)\n",
    "    robot = np.vstack((\n",
    "        robot * 0.1, # scale by 0.1 units\n",
    "        np.ones((1,robot.shape[1]))))\n",
    "\n",
    "    wheell = np.array([\n",
    "        [-0.05,0.05],\n",
    "        [l/2,l/2],\n",
    "        [1,1]\n",
    "    ])\n",
    "    wheelr = wheell * np.array([[1,-1,1]]).T\n",
    "\n",
    "    robott = f @ robot\n",
    "    wheellt = f @ wheell\n",
    "    wheelrt = f @ wheelr\n",
    "    ax.plot(robott[0,:],robott[1,:],'k-',alpha=alpha)\n",
    "    ax.plot(wheellt[0,:],wheellt[1,:],'k-',alpha=alpha)\n",
    "    ax.plot(wheelrt[0,:],wheelrt[1,:],'k-',alpha=alpha)\n"
   ]
  },
  {
   "cell_type": "code",
   "execution_count": 57,
   "metadata": {},
   "outputs": [
    {
     "data": {
      "image/png": "[encoded data removed]",
      "text/plain": [
       "<Figure size 432x288 with 1 Axes>"
      ]
     },
     "metadata": {},
     "output_type": "display_data"
    }
   ],
   "source": [
    "drawrobot(np.eye(3),0.1)\n",
    "drawf(np.eye(3))\n",
    "plt.gca().axis(\"equal\");"
   ]
  },
  {
   "cell_type": "code",
   "execution_count": 56,
   "metadata": {},
   "outputs": [],
   "source": [
    "vr = 0.10\n",
    "vl = 0.05\n",
    "l = 0.1\n",
    "v_l = (vr+vl)/2\n",
    "v_r = (vr-vl)/(2*l)\n",
    "R = l * (vr + vl) / (vr - vl)"
   ]
  },
  {
   "cell_type": "code",
   "execution_count": 12,
   "metadata": {},
   "outputs": [],
   "source": [
    "def ddtr(vl,vr,l,dt):\n",
    "    omega = (vr-vl)/(2*l)\n",
    "    if(np.isclose(omega,0)):\n",
    "        return mktr((vr + vl)/2*dt,0)\n",
    "    \n",
    "    R = -1 * (l * (vr + vl) / (vr - vl))\n",
    "    return  mktr(0,-R) @ mkrot(omega * dt) @ mktr(0,R)\n",
    "    "
   ]
  },
  {
   "cell_type": "code",
   "execution_count": 58,
   "metadata": {},
   "outputs": [
    {
     "data": {
      "image/png": "[encoded data removed]",
      "text/plain": [
       "<Figure size 432x288 with 1 Axes>"
      ]
     },
     "metadata": {},
     "output_type": "display_data"
    }
   ],
   "source": [
    "dt = 1.0\n",
    "Ts = [np.eye(3)]\n",
    "\n",
    "vl,vr = 0.10,0.05\n",
    "for i in range(10):\n",
    "    Ts.append(Ts[-1] @ ddtr(vl,vr,l,dt))\n",
    "\n",
    "drawf(np.eye(3))\n",
    "for T in Ts:\n",
    "    drawrobot(T,l)\n",
    "plt.axis(\"equal\");"
   ]
  },
  {
   "cell_type": "code",
   "execution_count": 81,
   "metadata": {},
   "outputs": [],
   "source": [
    "ipywidgets.Select?"
   ]
  },
  {
   "cell_type": "code",
   "execution_count": 61,
   "metadata": {},
   "outputs": [
    {
     "data": {
      "application/vnd.jupyter.widget-view+json": {
       "model_id": "06c033cb026f48c7854650d854486ceb",
       "version_major": 2,
       "version_minor": 0
      },
      "text/html": [
       "<p>Failed to display Jupyter Widget of type <code>interactive</code>.</p>\n",
       "<p>\n",
       "  If you're reading this message in the Jupyter Notebook or JupyterLab Notebook, it may mean\n",
       "  that the widgets JavaScript is still loading. If this message persists, it\n",
       "  likely means that the widgets JavaScript library is either not installed or\n",
       "  not enabled. See the <a href=\"https://ipywidgets.readthedocs.io/en/stable/user_install.html\">Jupyter\n",
       "  Widgets Documentation</a> for setup instructions.\n",
       "</p>\n",
       "<p>\n",
       "  If you're reading this message in another frontend (for example, a static\n",
       "  rendering on GitHub or <a href=\"https://nbviewer.jupyter.org/\">NBViewer</a>),\n",
       "  it may mean that your frontend doesn't currently support widgets.\n",
       "</p>\n"
      ],
      "text/plain": [
       "interactive(children=(FloatSlider(value=0.0, description='vl', max=0.5, min=-0.5, step=0.02), FloatSlider(value=0.0, description='vr', max=0.5, min=-0.5, step=0.02), FloatSlider(value=0.1, description='l', max=0.15, min=0.05, step=0.01), Output()), _dom_classes=('widget-interact',))"
      ]
     },
     "metadata": {},
     "output_type": "display_data"
    }
   ],
   "source": [
    "@ipywidgets.interact(\n",
    "    vl = ipywidgets.FloatSlider(min=-0.5, max=0.5, value=0, step=0.02),\n",
    "    vr = ipywidgets.FloatSlider(min=-0.5, max=0.5, value=0, step=0.02),\n",
    "    l = ipywidgets.FloatSlider(min=0.05, max=0.15, value=0.10, step=0.01))\n",
    "def f(vl,vr,l):\n",
    "    Ts = [np.eye(3)]\n",
    "\n",
    "    for i in range(10):\n",
    "        Ts.append(Ts[-1] @ ddtr(vl,vr,l,1))\n",
    "\n",
    "    drawf(np.eye(3))\n",
    "    for T in Ts:\n",
    "        drawrobot(T,l)\n",
    "    plt.axis(\"equal\");"
   ]
  },
  {
   "cell_type": "code",
   "execution_count": 98,
   "metadata": {},
   "outputs": [
    {
     "data": {
      "application/vnd.jupyter.widget-view+json": {
       "model_id": "bb6b3493f988405fba610da9e24aa47a",
       "version_major": 2,
       "version_minor": 0
      },
      "text/html": [
       "<p>Failed to display Jupyter Widget of type <code>interactive</code>.</p>\n",
       "<p>\n",
       "  If you're reading this message in the Jupyter Notebook or JupyterLab Notebook, it may mean\n",
       "  that the widgets JavaScript is still loading. If this message persists, it\n",
       "  likely means that the widgets JavaScript library is either not installed or\n",
       "  not enabled. See the <a href=\"https://ipywidgets.readthedocs.io/en/stable/user_install.html\">Jupyter\n",
       "  Widgets Documentation</a> for setup instructions.\n",
       "</p>\n",
       "<p>\n",
       "  If you're reading this message in another frontend (for example, a static\n",
       "  rendering on GitHub or <a href=\"https://nbviewer.jupyter.org/\">NBViewer</a>),\n",
       "  it may mean that your frontend doesn't currently support widgets.\n",
       "</p>\n"
      ],
      "text/plain": [
       "interactive(children=(FloatSlider(value=0.0, description='vl0', max=0.5, min=-0.5, step=0.02), FloatSlider(value=0.0, description='vr0', max=0.5, min=-0.5, step=0.02), FloatSlider(value=0.0, description='vl1', max=0.5, min=-0.5, step=0.02), FloatSlider(value=0.0, description='vr1', max=0.5, min=-0.5, step=0.02), Select(description='dt', options=(1, 5), value=1), Output()), _dom_classes=('widget-interact',))"
      ]
     },
     "metadata": {},
     "output_type": "display_data"
    }
   ],
   "source": [
    "l=0.1\n",
    "@ipywidgets.interact(\n",
    "    vl0 = ipywidgets.FloatSlider(min=-0.5, max=0.5, value=0, step=0.02),\n",
    "    vr0 = ipywidgets.FloatSlider(min=-0.5, max=0.5, value=0, step=0.02),\n",
    "    vl1 = ipywidgets.FloatSlider(min=-0.5, max=0.5, value=0, step=0.02),\n",
    "    vr1 = ipywidgets.FloatSlider(min=-0.5, max=0.5, value=0, step=0.02),\n",
    "    dt = ipywidgets.Select(options=[1,5]))\n",
    "def f(vl0,vr0,vl1,vr1,dt):\n",
    "    l=0.1\n",
    "    t0 = 0\n",
    "    t1 = 10\n",
    "    def wheelspeeds(t):\n",
    "        return (vl0 + (vl1-vl0)*(t-t0)/(t1-t0),\n",
    "                vr0 + (vr1-vr0)*(t-t0)/(t1-t0))\n",
    "    \n",
    "    ts = np.arange(t0,t1+dt,dt)\n",
    "    vls,vrs = [],[]\n",
    "    for t in ts:\n",
    "        vl,vr = wheelspeeds(t)\n",
    "        vls.append(vl)\n",
    "        vrs.append(vr)\n",
    "    \n",
    "    cT = np.eye(3)\n",
    "    Ts = []\n",
    "    for i,t in enumerate(ts):\n",
    "        if(i==0):\n",
    "            Ts.append(cT)\n",
    "        else:\n",
    "            vl, vr = vls[i-1], vrs[i-1]\n",
    "            cT = cT @ ddtr(vl,vr,l,dt)\n",
    "            Ts.append(cT)\n",
    "\n",
    "    fig,ax = plt.subplots()\n",
    "    ax.plot(ts,vls,label=(\"left\"))\n",
    "    ax.plot(ts,vrs,label=(\"right\"))\n",
    "    ax.set(xlabel=\"time\",\n",
    "           ylabel=\"wheel tangential speed\")\n",
    "    ax.legend()\n",
    "    \n",
    "    fig,ax = plt.subplots()\n",
    "    drawf(np.eye(3), ax=ax)\n",
    "    for T in Ts:\n",
    "        drawrobot(T,l,ax=ax)\n",
    "    drawf(Ts[-1], name=\"time = {}\".format(ts[-1]), ax=ax)\n",
    "    plt.axis(\"equal\");"
   ]
  },
  {
   "cell_type": "code",
   "execution_count": 89,
   "metadata": {},
   "outputs": [],
   "source": []
  }
 ],
 "metadata": {
  "kernelspec": {
   "display_name": "Python 3",
   "language": "python",
   "name": "python3"
  },
  "language_info": {
   "codemirror_mode": {
    "name": "ipython",
    "version": 3
   },
   "file_extension": ".py",
   "mimetype": "text/x-python",
   "name": "python",
   "nbconvert_exporter": "python",
   "pygments_lexer": "ipython3",
   "version": "3.5.4"
  }
 },
 "nbformat": 4,
 "nbformat_minor": 2
}
